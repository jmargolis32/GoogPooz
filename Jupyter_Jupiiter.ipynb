{
  "nbformat": 4,
  "nbformat_minor": 0,
  "metadata": {
    "colab": {
      "name": "Jupyter Jupiiter",
      "provenance": [],
      "collapsed_sections": [],
      "authorship_tag": "ABX9TyN3Ldrbvwb70CcepzXZV6bC",
      "include_colab_link": true
    },
    "kernelspec": {
      "name": "python3",
      "display_name": "Python 3"
    }
  },
  "cells": [
    {
      "cell_type": "markdown",
      "metadata": {
        "id": "view-in-github",
        "colab_type": "text"
      },
      "source": [
        "<a href=\"https://colab.research.google.com/github/jmargolis32/GoogPooz/blob/main/Jupyter_Jupiiter.ipynb\" target=\"_parent\"><img src=\"https://colab.research.google.com/assets/colab-badge.svg\" alt=\"Open In Colab\"/></a>"
      ]
    },
    {
      "cell_type": "code",
      "metadata": {
        "id": "Wvy9Rpgg0PTL"
      },
      "source": [
        "import pandas as pd\n",
        "import gspread\n",
        "from oauth2client.service_account import ServiceAccountCredentials\n",
        "from pandas.io.json import json_normalize\n",
        "\n",
        "## Connect to our service account\n",
        "scope = ['https://spreadsheets.google.com/feeds']\n",
        "credentials = ServiceAccountCredentials.from_json_keyfile_name('client_secret.json', scope)\n",
        "gc = gspread.authorize(credentials)"
      ],
      "execution_count": 4,
      "outputs": []
    },
    {
      "cell_type": "code",
      "metadata": {
        "id": "NTqdDvq9P_GO",
        "outputId": "a973f175-285e-40b9-ee49-792073a208b4",
        "colab": {
          "base_uri": "https://localhost:8080/"
        }
      },
      "source": [
        "spreadsheet_key = '1f0OwtmuTk1fTdhnn4tuvVcPCZjdb00D79dWw4RFhYs0'\n",
        "book = gc.open_by_key(spreadsheet_key)\n",
        "worksheet = book.worksheet(\"Candidate Data\")\n",
        "table = worksheet.get_all_values()\n",
        "table[:8]"
      ],
      "execution_count": 5,
      "outputs": [
        {
          "output_type": "execute_result",
          "data": {
            "text/plain": [
              "[['Order',\n",
              "  'Candidate',\n",
              "  'Position',\n",
              "  'Start Date',\n",
              "  'End Date',\n",
              "  'Years of Experience',\n",
              "  'Points',\n",
              "  '',\n",
              "  '',\n",
              "  '',\n",
              "  '',\n",
              "  '',\n",
              "  '',\n",
              "  '',\n",
              "  '',\n",
              "  '',\n",
              "  '',\n",
              "  '',\n",
              "  ''],\n",
              " ['45',\n",
              "  'Donald Trump',\n",
              "  'President',\n",
              "  '1/20/2017',\n",
              "  '1/20/2021',\n",
              "  '4.002739726',\n",
              "  '104',\n",
              "  '',\n",
              "  '',\n",
              "  '',\n",
              "  '',\n",
              "  '',\n",
              "  '',\n",
              "  '',\n",
              "  '',\n",
              "  '',\n",
              "  '',\n",
              "  '',\n",
              "  ''],\n",
              " ['45',\n",
              "  'Donald Trump',\n",
              "  'Secretary of State',\n",
              "  '',\n",
              "  '',\n",
              "  '0',\n",
              "  '0',\n",
              "  '',\n",
              "  '',\n",
              "  '',\n",
              "  '',\n",
              "  '',\n",
              "  '',\n",
              "  '',\n",
              "  '',\n",
              "  '',\n",
              "  '',\n",
              "  '',\n",
              "  ''],\n",
              " ['45',\n",
              "  'Donald Trump',\n",
              "  'Secretary of Defense',\n",
              "  '',\n",
              "  '',\n",
              "  '0',\n",
              "  '0',\n",
              "  '',\n",
              "  '',\n",
              "  '',\n",
              "  '',\n",
              "  '',\n",
              "  '',\n",
              "  '',\n",
              "  '',\n",
              "  '',\n",
              "  '',\n",
              "  '',\n",
              "  ''],\n",
              " ['45',\n",
              "  'Donald Trump',\n",
              "  'Secretary of Treasury',\n",
              "  '',\n",
              "  '',\n",
              "  '0',\n",
              "  '0',\n",
              "  '',\n",
              "  '',\n",
              "  '',\n",
              "  '',\n",
              "  '',\n",
              "  '',\n",
              "  '',\n",
              "  '',\n",
              "  '',\n",
              "  '',\n",
              "  '',\n",
              "  ''],\n",
              " ['45',\n",
              "  'Donald Trump',\n",
              "  'Vice President',\n",
              "  '',\n",
              "  '',\n",
              "  '0',\n",
              "  '0',\n",
              "  '',\n",
              "  '',\n",
              "  '',\n",
              "  '',\n",
              "  '',\n",
              "  '',\n",
              "  '',\n",
              "  '',\n",
              "  '',\n",
              "  '',\n",
              "  '',\n",
              "  ''],\n",
              " ['45',\n",
              "  'Donald Trump',\n",
              "  'Attorney General',\n",
              "  '',\n",
              "  '',\n",
              "  '0',\n",
              "  '0',\n",
              "  '',\n",
              "  '',\n",
              "  '',\n",
              "  '',\n",
              "  '',\n",
              "  '',\n",
              "  '',\n",
              "  '',\n",
              "  '',\n",
              "  '',\n",
              "  '',\n",
              "  ''],\n",
              " ['45',\n",
              "  'Donald Trump',\n",
              "  'Military Supreme Commander',\n",
              "  '',\n",
              "  '',\n",
              "  '0',\n",
              "  '0',\n",
              "  '',\n",
              "  '',\n",
              "  '',\n",
              "  '',\n",
              "  '',\n",
              "  '',\n",
              "  '',\n",
              "  '',\n",
              "  '',\n",
              "  '',\n",
              "  '',\n",
              "  '']]"
            ]
          },
          "metadata": {
            "tags": []
          },
          "execution_count": 5
        }
      ]
    },
    {
      "cell_type": "code",
      "metadata": {
        "id": "ByxZklYbQBAz",
        "outputId": "8d69baa6-c7c2-4d31-dd20-00743761d464",
        "colab": {
          "base_uri": "https://localhost:8080/",
          "height": 206
        }
      },
      "source": [
        "df = pd.DataFrame(table[1:], columns=table[0])\n",
        "\n",
        "##Only keep columns we need\n",
        "df = df[['Order', 'Candidate', 'Position', 'Start Date', 'End Date', 'Years of Experience', 'Points']]\n",
        "\n",
        "##Convert number strings to floats and ints\n",
        "df = df.apply(pd.to_numeric, errors='ignore')\n",
        "\n",
        "##Convert date strings to datetime format\n",
        "df['End Date'] = pd.to_datetime(df['End Date'],infer_datetime_format=True)\n",
        "df['Start Date'] = pd.to_datetime(df['Start Date'],infer_datetime_format=True)\n",
        "\n",
        "df.head()"
      ],
      "execution_count": 6,
      "outputs": [
        {
          "output_type": "execute_result",
          "data": {
            "text/html": [
              "<div>\n",
              "<style scoped>\n",
              "    .dataframe tbody tr th:only-of-type {\n",
              "        vertical-align: middle;\n",
              "    }\n",
              "\n",
              "    .dataframe tbody tr th {\n",
              "        vertical-align: top;\n",
              "    }\n",
              "\n",
              "    .dataframe thead th {\n",
              "        text-align: right;\n",
              "    }\n",
              "</style>\n",
              "<table border=\"1\" class=\"dataframe\">\n",
              "  <thead>\n",
              "    <tr style=\"text-align: right;\">\n",
              "      <th></th>\n",
              "      <th>Order</th>\n",
              "      <th>Candidate</th>\n",
              "      <th>Position</th>\n",
              "      <th>Start Date</th>\n",
              "      <th>End Date</th>\n",
              "      <th>Years of Experience</th>\n",
              "      <th>Points</th>\n",
              "    </tr>\n",
              "  </thead>\n",
              "  <tbody>\n",
              "    <tr>\n",
              "      <th>0</th>\n",
              "      <td>45</td>\n",
              "      <td>Donald Trump</td>\n",
              "      <td>President</td>\n",
              "      <td>2017-01-20</td>\n",
              "      <td>2021-01-20</td>\n",
              "      <td>4.00274</td>\n",
              "      <td>104.0</td>\n",
              "    </tr>\n",
              "    <tr>\n",
              "      <th>1</th>\n",
              "      <td>45</td>\n",
              "      <td>Donald Trump</td>\n",
              "      <td>Secretary of State</td>\n",
              "      <td>NaT</td>\n",
              "      <td>NaT</td>\n",
              "      <td>0.00000</td>\n",
              "      <td>0.0</td>\n",
              "    </tr>\n",
              "    <tr>\n",
              "      <th>2</th>\n",
              "      <td>45</td>\n",
              "      <td>Donald Trump</td>\n",
              "      <td>Secretary of Defense</td>\n",
              "      <td>NaT</td>\n",
              "      <td>NaT</td>\n",
              "      <td>0.00000</td>\n",
              "      <td>0.0</td>\n",
              "    </tr>\n",
              "    <tr>\n",
              "      <th>3</th>\n",
              "      <td>45</td>\n",
              "      <td>Donald Trump</td>\n",
              "      <td>Secretary of Treasury</td>\n",
              "      <td>NaT</td>\n",
              "      <td>NaT</td>\n",
              "      <td>0.00000</td>\n",
              "      <td>0.0</td>\n",
              "    </tr>\n",
              "    <tr>\n",
              "      <th>4</th>\n",
              "      <td>45</td>\n",
              "      <td>Donald Trump</td>\n",
              "      <td>Vice President</td>\n",
              "      <td>NaT</td>\n",
              "      <td>NaT</td>\n",
              "      <td>0.00000</td>\n",
              "      <td>0.0</td>\n",
              "    </tr>\n",
              "  </tbody>\n",
              "</table>\n",
              "</div>"
            ],
            "text/plain": [
              "   Order     Candidate  ... Years of Experience Points\n",
              "0     45  Donald Trump  ...             4.00274  104.0\n",
              "1     45  Donald Trump  ...             0.00000    0.0\n",
              "2     45  Donald Trump  ...             0.00000    0.0\n",
              "3     45  Donald Trump  ...             0.00000    0.0\n",
              "4     45  Donald Trump  ...             0.00000    0.0\n",
              "\n",
              "[5 rows x 7 columns]"
            ]
          },
          "metadata": {
            "tags": []
          },
          "execution_count": 6
        }
      ]
    },
    {
      "cell_type": "code",
      "metadata": {
        "id": "TNLADOiQRIQV",
        "outputId": "8e74e0cc-2e12-4377-ef86-e9a1e8ac534b",
        "colab": {
          "base_uri": "https://localhost:8080/",
          "height": 238
        }
      },
      "source": [
        "candidate_groups = df.groupby('Candidate')\n",
        "scores_df = candidate_groups.sum()\n",
        "scores_df['Order'] = candidate_groups.first()\n",
        "scores_df.head()"
      ],
      "execution_count": 7,
      "outputs": [
        {
          "output_type": "execute_result",
          "data": {
            "text/html": [
              "<div>\n",
              "<style scoped>\n",
              "    .dataframe tbody tr th:only-of-type {\n",
              "        vertical-align: middle;\n",
              "    }\n",
              "\n",
              "    .dataframe tbody tr th {\n",
              "        vertical-align: top;\n",
              "    }\n",
              "\n",
              "    .dataframe thead th {\n",
              "        text-align: right;\n",
              "    }\n",
              "</style>\n",
              "<table border=\"1\" class=\"dataframe\">\n",
              "  <thead>\n",
              "    <tr style=\"text-align: right;\">\n",
              "      <th></th>\n",
              "      <th>Order</th>\n",
              "      <th>Years of Experience</th>\n",
              "      <th>Points</th>\n",
              "    </tr>\n",
              "    <tr>\n",
              "      <th>Candidate</th>\n",
              "      <th></th>\n",
              "      <th></th>\n",
              "      <th></th>\n",
              "    </tr>\n",
              "  </thead>\n",
              "  <tbody>\n",
              "    <tr>\n",
              "      <th>Abraham Lincoln</th>\n",
              "      <td>16</td>\n",
              "      <td>6.336986</td>\n",
              "      <td>114.00</td>\n",
              "    </tr>\n",
              "    <tr>\n",
              "      <th>Andrew Jackson</th>\n",
              "      <td>7</td>\n",
              "      <td>19.884932</td>\n",
              "      <td>246.85</td>\n",
              "    </tr>\n",
              "    <tr>\n",
              "      <th>Andrew Johnson</th>\n",
              "      <td>17</td>\n",
              "      <td>25.443836</td>\n",
              "      <td>204.45</td>\n",
              "    </tr>\n",
              "    <tr>\n",
              "      <th>Barack Obama</th>\n",
              "      <td>44</td>\n",
              "      <td>12.054795</td>\n",
              "      <td>208.55</td>\n",
              "    </tr>\n",
              "    <tr>\n",
              "      <th>Benjamin Harrison</th>\n",
              "      <td>23</td>\n",
              "      <td>12.887671</td>\n",
              "      <td>137.70</td>\n",
              "    </tr>\n",
              "  </tbody>\n",
              "</table>\n",
              "</div>"
            ],
            "text/plain": [
              "                  Order  Years of Experience  Points\n",
              "Candidate                                           \n",
              "Abraham Lincoln      16             6.336986  114.00\n",
              "Andrew Jackson        7            19.884932  246.85\n",
              "Andrew Johnson       17            25.443836  204.45\n",
              "Barack Obama         44            12.054795  208.55\n",
              "Benjamin Harrison    23            12.887671  137.70"
            ]
          },
          "metadata": {
            "tags": []
          },
          "execution_count": 7
        }
      ]
    },
    {
      "cell_type": "code",
      "metadata": {
        "id": "BhBAsf6qRKS8",
        "outputId": "36a36a7c-99b2-4cbb-9e2d-9309bddb3770",
        "colab": {
          "base_uri": "https://localhost:8080/",
          "height": 209
        }
      },
      "source": [
        "from df2gspread import df2gspread as d2g\n",
        "wks_name = 'Jupyter Manipulated Data'\n",
        "d2g.upload(scores_df, spreadsheet_key, wks_name, credentials=credentials, row_names=True)"
      ],
      "execution_count": 1,
      "outputs": [
        {
          "output_type": "error",
          "ename": "NameError",
          "evalue": "ignored",
          "traceback": [
            "\u001b[0;31m---------------------------------------------------------------------------\u001b[0m",
            "\u001b[0;31mNameError\u001b[0m                                 Traceback (most recent call last)",
            "\u001b[0;32m<ipython-input-1-8546754deebc>\u001b[0m in \u001b[0;36m<module>\u001b[0;34m()\u001b[0m\n\u001b[1;32m      1\u001b[0m \u001b[0;32mfrom\u001b[0m \u001b[0mdf2gspread\u001b[0m \u001b[0;32mimport\u001b[0m \u001b[0mdf2gspread\u001b[0m \u001b[0;32mas\u001b[0m \u001b[0md2g\u001b[0m\u001b[0;34m\u001b[0m\u001b[0;34m\u001b[0m\u001b[0m\n\u001b[1;32m      2\u001b[0m \u001b[0mwks_name\u001b[0m \u001b[0;34m=\u001b[0m \u001b[0;34m'Jupyter Manipulated Data'\u001b[0m\u001b[0;34m\u001b[0m\u001b[0;34m\u001b[0m\u001b[0m\n\u001b[0;32m----> 3\u001b[0;31m \u001b[0md2g\u001b[0m\u001b[0;34m.\u001b[0m\u001b[0mupload\u001b[0m\u001b[0;34m(\u001b[0m\u001b[0mscores_df\u001b[0m\u001b[0;34m,\u001b[0m \u001b[0mspreadsheet_key\u001b[0m\u001b[0;34m,\u001b[0m \u001b[0mwks_name\u001b[0m\u001b[0;34m,\u001b[0m \u001b[0mcredentials\u001b[0m\u001b[0;34m=\u001b[0m\u001b[0mcredentials\u001b[0m\u001b[0;34m,\u001b[0m \u001b[0mrow_names\u001b[0m\u001b[0;34m=\u001b[0m\u001b[0;32mTrue\u001b[0m\u001b[0;34m)\u001b[0m\u001b[0;34m\u001b[0m\u001b[0;34m\u001b[0m\u001b[0m\n\u001b[0m",
            "\u001b[0;31mNameError\u001b[0m: name 'scores_df' is not defined"
          ]
        }
      ]
    },
    {
      "cell_type": "code",
      "metadata": {
        "id": "WzbJ6CmbRM09",
        "outputId": "06e514e4-7626-4d17-fa03-dc0b72d43ea4",
        "colab": {
          "base_uri": "https://localhost:8080/",
          "height": 750
        }
      },
      "source": [
        "!pip install df2gspread"
      ],
      "execution_count": 9,
      "outputs": [
        {
          "output_type": "stream",
          "text": [
            "Collecting df2gspread\n",
            "  Downloading https://files.pythonhosted.org/packages/56/c3/fc3801749129df5632deeb7b9b9ef758a0ea6a4498c207a9eb4ac36deffb/df2gspread-1.0.4.tar.gz\n",
            "Collecting argparse>=1.3.0\n",
            "  Downloading https://files.pythonhosted.org/packages/f2/94/3af39d34be01a24a6e65433d19e107099374224905f1e0cc6bbe1fd22a2f/argparse-1.4.0-py2.py3-none-any.whl\n",
            "Collecting google-api-python-client==1.6.7\n",
            "\u001b[?25l  Downloading https://files.pythonhosted.org/packages/eb/6c/8c1781a251beb3bc1670d6d1934da51620a049380ea7a6a821099f884b62/google_api_python_client-1.6.7-py2.py3-none-any.whl (56kB)\n",
            "\u001b[K     |████████████████████████████████| 61kB 3.4MB/s \n",
            "\u001b[?25hRequirement already satisfied: gspread>=2.1.1 in /usr/local/lib/python3.6/dist-packages (from df2gspread) (3.0.1)\n",
            "Requirement already satisfied: oauth2client<5.0.0dev,>=1.5.0 in /usr/local/lib/python3.6/dist-packages (from df2gspread) (4.1.3)\n",
            "Requirement already satisfied: pandas in /usr/local/lib/python3.6/dist-packages (from df2gspread) (1.1.4)\n",
            "Requirement already satisfied: httplib2<1dev,>=0.9.2 in /usr/local/lib/python3.6/dist-packages (from google-api-python-client==1.6.7->df2gspread) (0.17.4)\n",
            "Requirement already satisfied: six<2dev,>=1.6.1 in /usr/local/lib/python3.6/dist-packages (from google-api-python-client==1.6.7->df2gspread) (1.15.0)\n",
            "Requirement already satisfied: uritemplate<4dev,>=3.0.0 in /usr/local/lib/python3.6/dist-packages (from google-api-python-client==1.6.7->df2gspread) (3.0.1)\n",
            "Requirement already satisfied: requests>=2.2.1 in /usr/local/lib/python3.6/dist-packages (from gspread>=2.1.1->df2gspread) (2.23.0)\n",
            "Requirement already satisfied: pyasn1>=0.1.7 in /usr/local/lib/python3.6/dist-packages (from oauth2client<5.0.0dev,>=1.5.0->df2gspread) (0.4.8)\n",
            "Requirement already satisfied: pyasn1-modules>=0.0.5 in /usr/local/lib/python3.6/dist-packages (from oauth2client<5.0.0dev,>=1.5.0->df2gspread) (0.2.8)\n",
            "Requirement already satisfied: rsa>=3.1.4 in /usr/local/lib/python3.6/dist-packages (from oauth2client<5.0.0dev,>=1.5.0->df2gspread) (4.6)\n",
            "Requirement already satisfied: numpy>=1.15.4 in /usr/local/lib/python3.6/dist-packages (from pandas->df2gspread) (1.18.5)\n",
            "Requirement already satisfied: python-dateutil>=2.7.3 in /usr/local/lib/python3.6/dist-packages (from pandas->df2gspread) (2.8.1)\n",
            "Requirement already satisfied: pytz>=2017.2 in /usr/local/lib/python3.6/dist-packages (from pandas->df2gspread) (2018.9)\n",
            "Requirement already satisfied: urllib3!=1.25.0,!=1.25.1,<1.26,>=1.21.1 in /usr/local/lib/python3.6/dist-packages (from requests>=2.2.1->gspread>=2.1.1->df2gspread) (1.24.3)\n",
            "Requirement already satisfied: certifi>=2017.4.17 in /usr/local/lib/python3.6/dist-packages (from requests>=2.2.1->gspread>=2.1.1->df2gspread) (2020.6.20)\n",
            "Requirement already satisfied: idna<3,>=2.5 in /usr/local/lib/python3.6/dist-packages (from requests>=2.2.1->gspread>=2.1.1->df2gspread) (2.10)\n",
            "Requirement already satisfied: chardet<4,>=3.0.2 in /usr/local/lib/python3.6/dist-packages (from requests>=2.2.1->gspread>=2.1.1->df2gspread) (3.0.4)\n",
            "Building wheels for collected packages: df2gspread\n",
            "  Building wheel for df2gspread (setup.py) ... \u001b[?25l\u001b[?25hdone\n",
            "  Created wheel for df2gspread: filename=df2gspread-1.0.4-cp36-none-any.whl size=11955 sha256=9ce0f83c51450c0ea0ff11e2dbbbb13a18ad23a4507742c1f16f7b0c883f2475\n",
            "  Stored in directory: /root/.cache/pip/wheels/19/d2/15/07b0a45a18edadbf0bb3a5655e997925e2b9cbf08b4a95342e\n",
            "Successfully built df2gspread\n",
            "\u001b[31mERROR: firebase-admin 4.4.0 has requirement google-api-python-client>=1.7.8, but you'll have google-api-python-client 1.6.7 which is incompatible.\u001b[0m\n",
            "Installing collected packages: argparse, google-api-python-client, df2gspread\n",
            "  Found existing installation: google-api-python-client 1.7.12\n",
            "    Uninstalling google-api-python-client-1.7.12:\n",
            "      Successfully uninstalled google-api-python-client-1.7.12\n",
            "Successfully installed argparse-1.4.0 df2gspread-1.0.4 google-api-python-client-1.6.7\n"
          ],
          "name": "stdout"
        },
        {
          "output_type": "display_data",
          "data": {
            "application/vnd.colab-display-data+json": {
              "pip_warning": {
                "packages": [
                  "argparse"
                ]
              }
            }
          },
          "metadata": {
            "tags": []
          }
        }
      ]
    },
    {
      "cell_type": "code",
      "metadata": {
        "id": "eejROAKKRWKN"
      },
      "source": [
        ""
      ],
      "execution_count": null,
      "outputs": []
    }
  ]
}